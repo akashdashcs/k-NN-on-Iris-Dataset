{
 "cells": [
  {
   "cell_type": "markdown",
   "metadata": {},
   "source": [
    "### Ishita Kapur, 1001753123\n",
    "#### Data Mining - Assignment 2, Spring 2020\n",
    "\n",
    "\n",
    "## kNN\n"
   ]
  },
  {
   "cell_type": "code",
   "execution_count": 1,
   "metadata": {},
   "outputs": [],
   "source": [
    "'''\n",
    "References:\n",
    "https://stackoverflow.com/questions/18424228/cosine-similarity-between-2-number-lists - for cosine similarity\n",
    "https://machinelearningmastery.com/tutorial-to-implement-k-nearest-neighbors-in-python-from-scratch/ - for nearest neighbors        \n",
    "'''\n",
    "\n",
    "import pandas as pd\n",
    "import numpy as np\n",
    "import operator\n",
    "import matplotlib.pyplot as plt"
   ]
  },
  {
   "cell_type": "code",
   "execution_count": 2,
   "metadata": {},
   "outputs": [
    {
     "name": "stdout",
     "output_type": "stream",
     "text": [
      "     sepal_length  sepal_width  petal_length  petal_width           class\n",
      "0             5.1          3.5           1.4          0.2     Iris-setosa\n",
      "1             4.9          3.0           1.4          0.2     Iris-setosa\n",
      "2             4.7          3.2           1.3          0.2     Iris-setosa\n",
      "3             4.6          3.1           1.5          0.2     Iris-setosa\n",
      "4             5.0          3.6           1.4          0.2     Iris-setosa\n",
      "..            ...          ...           ...          ...             ...\n",
      "145           6.7          3.0           5.2          2.3  Iris-virginica\n",
      "146           6.3          2.5           5.0          1.9  Iris-virginica\n",
      "147           6.5          3.0           5.2          2.0  Iris-virginica\n",
      "148           6.2          3.4           5.4          2.3  Iris-virginica\n",
      "149           5.9          3.0           5.1          1.8  Iris-virginica\n",
      "\n",
      "[150 rows x 5 columns]\n"
     ]
    }
   ],
   "source": [
    "#reading data from the csv file\n",
    "data = pd.read_csv('iris.data', header=None, names=['sepal_length', 'sepal_width', 'petal_length', 'petal_width', 'class'])\n",
    "print(data)"
   ]
  },
  {
   "cell_type": "markdown",
   "metadata": {},
   "source": [
    "### Part a)\n",
    "Dividing the dataset as development and test."
   ]
  },
  {
   "cell_type": "code",
   "execution_count": 3,
   "metadata": {},
   "outputs": [
    {
     "name": "stdout",
     "output_type": "stream",
     "text": [
      "Development Set:\n",
      "      sepal_length  sepal_width  petal_length  petal_width            class\n",
      "37            4.9          3.1           1.5          0.1      Iris-setosa\n",
      "21            5.1          3.7           1.5          0.4      Iris-setosa\n",
      "16            5.4          3.9           1.3          0.4      Iris-setosa\n",
      "134           6.1          2.6           5.6          1.4   Iris-virginica\n",
      "49            5.0          3.3           1.4          0.2      Iris-setosa\n",
      "..            ...          ...           ...          ...              ...\n",
      "74            6.4          2.9           4.3          1.3  Iris-versicolor\n",
      "2             4.7          3.2           1.3          0.2      Iris-setosa\n",
      "122           7.7          2.8           6.7          2.0   Iris-virginica\n",
      "108           6.7          2.5           5.8          1.8   Iris-virginica\n",
      "137           6.4          3.1           5.5          1.8   Iris-virginica\n",
      "\n",
      "[112 rows x 5 columns] \n",
      "\n",
      "Test Set:\n",
      "      sepal_length  sepal_width  petal_length  petal_width            class\n",
      "82            5.8          2.7           3.9          1.2  Iris-versicolor\n",
      "73            6.1          2.8           4.7          1.2  Iris-versicolor\n",
      "80            5.5          2.4           3.8          1.1  Iris-versicolor\n",
      "67            5.8          2.7           4.1          1.0  Iris-versicolor\n",
      "144           6.7          3.3           5.7          2.5   Iris-virginica\n",
      "107           7.3          2.9           6.3          1.8   Iris-virginica\n",
      "63            6.1          2.9           4.7          1.4  Iris-versicolor\n",
      "7             5.0          3.4           1.5          0.2      Iris-setosa\n",
      "99            5.7          2.8           4.1          1.3  Iris-versicolor\n",
      "125           7.2          3.2           6.0          1.8   Iris-virginica\n",
      "43            5.0          3.5           1.6          0.6      Iris-setosa\n",
      "102           7.1          3.0           5.9          2.1   Iris-virginica\n",
      "59            5.2          2.7           3.9          1.4  Iris-versicolor\n",
      "33            5.5          4.2           1.4          0.2      Iris-setosa\n",
      "58            6.6          2.9           4.6          1.3  Iris-versicolor\n",
      "61            5.9          3.0           4.2          1.5  Iris-versicolor\n",
      "146           6.3          2.5           5.0          1.9   Iris-virginica\n",
      "97            6.2          2.9           4.3          1.3  Iris-versicolor\n",
      "24            4.8          3.4           1.9          0.2      Iris-setosa\n",
      "71            6.1          2.8           4.0          1.3  Iris-versicolor\n",
      "4             5.0          3.6           1.4          0.2      Iris-setosa\n",
      "54            6.5          2.8           4.6          1.5  Iris-versicolor\n",
      "100           6.3          3.3           6.0          2.5   Iris-virginica\n",
      "38            4.4          3.0           1.3          0.2      Iris-setosa\n",
      "119           6.0          2.2           5.0          1.5   Iris-virginica\n",
      "45            4.8          3.0           1.4          0.3      Iris-setosa\n",
      "23            5.1          3.3           1.7          0.5      Iris-setosa\n",
      "126           6.2          2.8           4.8          1.8   Iris-virginica\n",
      "147           6.5          3.0           5.2          2.0   Iris-virginica\n",
      "130           7.4          2.8           6.1          1.9   Iris-virginica\n",
      "41            4.5          2.3           1.3          0.3      Iris-setosa\n",
      "72            6.3          2.5           4.9          1.5  Iris-versicolor\n",
      "135           7.7          3.0           6.1          2.3   Iris-virginica\n",
      "48            5.3          3.7           1.5          0.2      Iris-setosa\n",
      "123           6.3          2.7           4.9          1.8   Iris-virginica\n",
      "88            5.6          3.0           4.1          1.3  Iris-versicolor\n",
      "17            5.1          3.5           1.4          0.3      Iris-setosa\n",
      "94            5.6          2.7           4.2          1.3  Iris-versicolor\n"
     ]
    }
   ],
   "source": [
    "#randomize the indices\n",
    "indices = np.random.permutation(data.shape[0])\n",
    "div = int(0.75 * len(indices))\n",
    "development_id, test_id = indices[:div], indices[div:]\n",
    "#dividing the dataset using randomized indices\n",
    "development_set, test_set = data.loc[development_id,:], data.loc[test_id,:]\n",
    "print(\"Development Set:\\n\", development_set, \"\\n\\nTest Set:\\n\", test_set)\n",
    "mean_development_set = development_set.mean()\n",
    "mean_test_set = test_set.mean()\n",
    "std_development_set = development_set.std()\n",
    "std_test_set = test_set.std()"
   ]
  },
  {
   "cell_type": "markdown",
   "metadata": {},
   "source": [
    "### Part b)\n",
    "Implement kNN using the following hyperparameters:\n",
    "##### number of neighbor\n",
    "        * 1,3,5,7\n",
    "##### distance metric\n",
    "        * euclidean distance\n",
    "        * normalized euclidean distance\n",
    "        * cosine similarity"
   ]
  },
  {
   "cell_type": "markdown",
   "metadata": {},
   "source": [
    "Retrieving the 'class' column from the development and test sets and storing it in separate lists. Calculating the mean and standard deviation of the development set and test set for normalizing the data."
   ]
  },
  {
   "cell_type": "code",
   "execution_count": 4,
   "metadata": {},
   "outputs": [],
   "source": [
    "test_class = list(test_set.iloc[:,-1])\n",
    "dev_class = list(development_set.iloc[:,-1])\n",
    "mean_development_set = development_set.mean()\n",
    "mean_test_set = test_set.mean()\n",
    "std_development_set = development_set.std()\n",
    "std_test_set = test_set.std()"
   ]
  },
  {
   "cell_type": "markdown",
   "metadata": {},
   "source": [
    "Functions for computing the Euclidean Distance, Normalized Euclidean Distance, Cosine Similarity and k Nearest Neighbor to determine the 'class' for a given input instance."
   ]
  },
  {
   "cell_type": "code",
   "execution_count": 5,
   "metadata": {},
   "outputs": [],
   "source": [
    "def euclideanDistance(data_1, data_2, data_len):\n",
    "    dist = 0\n",
    "    for i in range(data_len):\n",
    "        dist = dist + np.square(data_1[i] - data_2[i])\n",
    "    return np.sqrt(dist)\n",
    "\n",
    "def normalizedEuclideanDistance(data_1, data_2, data_len, data_mean, data_std):\n",
    "    n_dist = 0\n",
    "    for i in range(data_len):\n",
    "        n_dist = n_dist + (np.square(((data_1[i] - data_mean[i])/data_std[i]) - ((data_2[i] - data_mean[i])/data_std[i])))\n",
    "    return np.sqrt(n_dist)\n",
    "\n",
    "def cosineSimilarity(data_1, data_2):\n",
    "    dot = np.dot(data_1, data_2[:-1])\n",
    "    norm_data_1 = np.linalg.norm(data_1)\n",
    "    norm_data_2 = np.linalg.norm(data_2[:-1])\n",
    "    cos = dot / (norm_data_1 * norm_data_2)\n",
    "    return (1-cos)\n",
    "\n",
    "def knn(dataset, testInstance, k, dist_method, dataset_mean, dataset_std): \n",
    "    distances = {}\n",
    "    length = testInstance.shape[1]\n",
    "    if dist_method == 'euclidean':\n",
    "        for x in range(len(dataset)):\n",
    "            dist_up = euclideanDistance(testInstance, dataset.iloc[x], length)\n",
    "            distances[x] = dist_up[0]\n",
    "    elif dist_method == 'normalized_euclidean':\n",
    "        for x in range(len(dataset)):\n",
    "            dist_up = normalizedEuclideanDistance(testInstance, dataset.iloc[x], length, dataset_mean, dataset_std)\n",
    "            distances[x] = dist_up[0]\n",
    "    elif dist_method == 'cosine':\n",
    "        for x in range(len(dataset)):\n",
    "            dist_up = cosineSimilarity(testInstance, dataset.iloc[x])\n",
    "            distances[x] = dist_up[0]\n",
    "    # Sort values based on distance\n",
    "    sort_distances = sorted(distances.items(), key=operator.itemgetter(1))\n",
    "    neighbors = []\n",
    "    # Extracting nearest k neighbors\n",
    "    for x in range(k):\n",
    "        neighbors.append(sort_distances[x][0])\n",
    "    # Initializing counts for 'class' labels counts as 0\n",
    "    counts = {\"Iris-setosa\" : 0, \"Iris-versicolor\" : 0, \"Iris-virginica\" : 0}\n",
    "    # Computing the most frequent class\n",
    "    for x in range(len(neighbors)):\n",
    "        response = dataset.iloc[neighbors[x]][-1] \n",
    "        if response in counts:\n",
    "            counts[response] += 1\n",
    "        else:\n",
    "            counts[response] = 1\n",
    "    # Sorting the class in reverse order to get the most frequest class\n",
    "    sort_counts = sorted(counts.items(), key=operator.itemgetter(1), reverse=True)\n",
    "    return(sort_counts[0][0])"
   ]
  },
  {
   "cell_type": "markdown",
   "metadata": {},
   "source": [
    "### Part c)\n",
    "Using the development data set"
   ]
  },
  {
   "cell_type": "markdown",
   "metadata": {},
   "source": [
    "Iterating all of the development data points and computing the class for each k and each distance metric"
   ]
  },
  {
   "cell_type": "code",
   "execution_count": 6,
   "metadata": {
    "scrolled": false
   },
   "outputs": [
    {
     "name": "stdout",
     "output_type": "stream",
     "text": [
      "EUCLIDEAN distance method performed on the dataset for all k values!\n",
      "NORMALIZED_EUCLIDEAN distance method performed on the dataset for all k values!\n",
      "COSINE distance method performed on the dataset for all k values!\n"
     ]
    }
   ],
   "source": [
    "# Creating a list of list of all columns except 'class' by iterating through the development set\n",
    "row_list = []\n",
    "for index, rows in development_set.iterrows():\n",
    "    my_list =[rows.sepal_length, rows.sepal_width, rows.petal_length, rows.petal_width]       \n",
    "    row_list.append([my_list])\n",
    "# k values for the number of neighbors that need to be considered\n",
    "k_n = [1, 3, 5, 7]\n",
    "# Distance metrics\n",
    "distance_methods = ['euclidean', 'normalized_euclidean', 'cosine']\n",
    "# Performing kNN on the development set by iterating all of the development set data points and for each k and each distance metric\n",
    "obs_k = {}\n",
    "for dist_method in distance_methods:\n",
    "    development_set_obs_k = {}\n",
    "    for k in k_n:\n",
    "        development_set_obs = []\n",
    "        for i in range(len(row_list)):\n",
    "            development_set_obs.append(knn(development_set, pd.DataFrame(row_list[i]), k, dist_method, mean_development_set, std_development_set))\n",
    "        development_set_obs_k[k] = development_set_obs\n",
    "    # Nested Dictionary containing the observed class for each k and each distance metric (obs_k of the form obs_k[dist_method][k])\n",
    "    obs_k[dist_method] = development_set_obs_k\n",
    "    print(dist_method.upper() + \" distance method performed on the dataset for all k values!\")\n",
    "#print(obs_k)"
   ]
  },
  {
   "cell_type": "markdown",
   "metadata": {},
   "source": [
    "Computing the accuracy for the development data set and finding the optimal hyperparametes"
   ]
  },
  {
   "cell_type": "code",
   "execution_count": 7,
   "metadata": {},
   "outputs": [
    {
     "name": "stdout",
     "output_type": "stream",
     "text": [
      "   k  euclidean  normalized_euclidean    cosine\n",
      "0  1   1.000000              1.000000  1.000000\n",
      "1  3   0.973214              0.964286  0.982143\n",
      "2  5   0.973214              0.964286  0.991071\n",
      "3  7   0.973214              0.982143  0.973214\n",
      "\n",
      "\n",
      "\n",
      "Best k value is\u001b[1m 5 \u001b[0mand best distance metric is\u001b[1m cosine \u001b[0m. Ignoring k=1 if the value of accuracy for k=1 is 100%, since this mostly implies overfitting\n"
     ]
    },
    {
     "data": {
      "image/png": "[encoded data removed]",
      "text/plain": [
       "<Figure size 432x288 with 1 Axes>"
      ]
     },
     "metadata": {
      "needs_background": "light"
     },
     "output_type": "display_data"
    }
   ],
   "source": [
    "# Calculating the accuracy of the development set by comparing it with the development set 'class' list created earlier\n",
    "accuracy = {}\n",
    "for key in obs_k.keys():\n",
    "    accuracy[key] = {}\n",
    "    for k_value in obs_k[key].keys():\n",
    "        #print('k = ', key)\n",
    "        count = 0\n",
    "        for i,j in zip(dev_class, obs_k[key][k_value]):\n",
    "            if i == j:\n",
    "                count = count + 1\n",
    "            else:\n",
    "                pass\n",
    "        accuracy[key][k_value] = count/(len(dev_class))\n",
    "\n",
    "# Storing the accuracy for each k and each distance metric into a dataframe\n",
    "df_res = pd.DataFrame({'k': k_n})\n",
    "for key in accuracy.keys():\n",
    "    value = list(accuracy[key].values())\n",
    "    df_res[key] = value\n",
    "print(df_res)\n",
    "\n",
    "# Plotting a Bar Chart for accuracy\n",
    "draw = df_res.plot(x='k', y=['euclidean', 'normalized_euclidean', 'cosine'], kind=\"bar\", colormap='YlGnBu')\n",
    "draw.set(ylabel='Accuracy')\n",
    "\n",
    "# Ignoring k=1 if the value of accuracy for k=1 is 100%, since this mostly implies overfitting\n",
    "df_res.loc[df_res['k'] == 1.0, ['euclidean', 'normalized_euclidean', 'cosine']] = np.nan\n",
    "\n",
    "# Fetching the best k value for using all hyper-parameters\n",
    "# In case the accuracy is the same for different k and different distance metric selecting the first of all the same\n",
    "column_val = [c for c in df_res.columns if not c.startswith('k')]\n",
    "col_max = df_res[column_val].max().idxmax(1)\n",
    "best_dist_method = col_max\n",
    "row_max = df_res[col_max].argmax()\n",
    "best_k = int(df_res.iloc[row_max]['k'])\n",
    "if df_res.isnull().values.any():\n",
    "    print('\\n\\n\\nBest k value is\\033[1m', best_k, '\\033[0mand best distance metric is\\033[1m', best_dist_method, '\\033[0m. Ignoring k=1 if the value of accuracy for k=1 is 100%, since this mostly implies overfitting')\n",
    "else:\n",
    "    print('\\n\\n\\nBest k value is\\033[1m', best_k, '\\033[0mand best distance metric is\\033[1m', best_dist_method, '\\033[0m.')"
   ]
  },
  {
   "cell_type": "markdown",
   "metadata": {},
   "source": [
    "### Part d)\n",
    "Using the test dataset"
   ]
  },
  {
   "cell_type": "code",
   "execution_count": 8,
   "metadata": {},
   "outputs": [
    {
     "name": "stdout",
     "output_type": "stream",
     "text": [
      "\n",
      "\n",
      "\n",
      "Best k value is\u001b[1m 5 \u001b[0mand best distance metric is\u001b[1m cosine \u001b[0m\n"
     ]
    }
   ],
   "source": [
    "print('\\n\\n\\nBest k value is\\033[1m', best_k, '\\033[0mand best distance metric is\\033[1m', best_dist_method, '\\033[0m')"
   ]
  },
  {
   "cell_type": "markdown",
   "metadata": {},
   "source": [
    "Using the best k value and best distance metric to determine the class for all rows in the test dataset"
   ]
  },
  {
   "cell_type": "code",
   "execution_count": 9,
   "metadata": {},
   "outputs": [
    {
     "name": "stdout",
     "output_type": "stream",
     "text": [
      "Final Accuracy of the Test dataset is  0.9736842105263158\n"
     ]
    }
   ],
   "source": [
    "# Creating a list of list of all columns except 'class' by iterating through the development set\n",
    "row_list_test = []\n",
    "for index, rows in test_set.iterrows(): \n",
    "    my_list =[rows.sepal_length, rows.sepal_width, rows.petal_length, rows.petal_width]       \n",
    "    row_list_test.append([my_list])\n",
    "test_set_obs = []\n",
    "for i in range(len(row_list_test)):\n",
    "    test_set_obs.append(knn(test_set, pd.DataFrame(row_list_test[i]), best_k, best_dist_method, mean_test_set, std_test_set))\n",
    "#print(test_set_obs)\n",
    "\n",
    "count = 0\n",
    "for i,j in zip(test_class, test_set_obs):\n",
    "    if i == j:\n",
    "        count = count + 1\n",
    "    else:\n",
    "        pass\n",
    "accuracy_test = count/(len(test_class))\n",
    "print('Final Accuracy of the Test dataset is ', accuracy_test)"
   ]
  }
 ],
 "metadata": {
  "kernelspec": {
   "display_name": "Python 3",
   "language": "python",
   "name": "python3"
  },
  "language_info": {
   "codemirror_mode": {
    "name": "ipython",
    "version": 3
   },
   "file_extension": ".py",
   "mimetype": "text/x-python",
   "name": "python",
   "nbconvert_exporter": "python",
   "pygments_lexer": "ipython3",
   "version": "3.8.1"
  }
 },
 "nbformat": 4,
 "nbformat_minor": 4
}
